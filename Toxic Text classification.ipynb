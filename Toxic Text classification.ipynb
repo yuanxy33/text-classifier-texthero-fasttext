{
 "cells": [
  {
   "cell_type": "code",
   "execution_count": 1,
   "metadata": {},
   "outputs": [],
   "source": [
    "import texthero as hero\n",
    "import pandas as pd\n",
    "import fasttext\n",
    "from sklearn.metrics import classification_report\n",
    "from sklearn.metrics import confusion_matrix"
   ]
  },
  {
   "cell_type": "code",
   "execution_count": 6,
   "metadata": {},
   "outputs": [],
   "source": [
    "train_df = pd.read_csv('toxic_text_classification/train.csv/train.csv')\n",
    "test_df = pd.read_csv('toxic_text_classification/test.csv/test.csv')\n",
    "test_label_df = pd.read_csv('toxic_text_classification/test_labels.csv/test_labels.csv')"
   ]
  },
  {
   "cell_type": "code",
   "execution_count": 7,
   "metadata": {
    "scrolled": true
   },
   "outputs": [
    {
     "data": {
      "text/html": [
       "<div>\n",
       "<style scoped>\n",
       "    .dataframe tbody tr th:only-of-type {\n",
       "        vertical-align: middle;\n",
       "    }\n",
       "\n",
       "    .dataframe tbody tr th {\n",
       "        vertical-align: top;\n",
       "    }\n",
       "\n",
       "    .dataframe thead th {\n",
       "        text-align: right;\n",
       "    }\n",
       "</style>\n",
       "<table border=\"1\" class=\"dataframe\">\n",
       "  <thead>\n",
       "    <tr style=\"text-align: right;\">\n",
       "      <th></th>\n",
       "      <th>id</th>\n",
       "      <th>comment_text</th>\n",
       "      <th>toxic</th>\n",
       "      <th>severe_toxic</th>\n",
       "      <th>obscene</th>\n",
       "      <th>threat</th>\n",
       "      <th>insult</th>\n",
       "      <th>identity_hate</th>\n",
       "    </tr>\n",
       "  </thead>\n",
       "  <tbody>\n",
       "    <tr>\n",
       "      <th>115529</th>\n",
       "      <td>69d41fc56340e2ca</td>\n",
       "      <td>English Book, English title. No american trans...</td>\n",
       "      <td>0</td>\n",
       "      <td>0</td>\n",
       "      <td>0</td>\n",
       "      <td>0</td>\n",
       "      <td>0</td>\n",
       "      <td>0</td>\n",
       "    </tr>\n",
       "    <tr>\n",
       "      <th>10098</th>\n",
       "      <td>1ab610d76b03b448</td>\n",
       "      <td>\"\\n\\n A little something for you... \\n\\n   The...</td>\n",
       "      <td>0</td>\n",
       "      <td>0</td>\n",
       "      <td>0</td>\n",
       "      <td>0</td>\n",
       "      <td>0</td>\n",
       "      <td>0</td>\n",
       "    </tr>\n",
       "    <tr>\n",
       "      <th>120090</th>\n",
       "      <td>823517eeea74b48b</td>\n",
       "      <td>...And the statement is completely opinion.  I...</td>\n",
       "      <td>0</td>\n",
       "      <td>0</td>\n",
       "      <td>0</td>\n",
       "      <td>0</td>\n",
       "      <td>0</td>\n",
       "      <td>0</td>\n",
       "    </tr>\n",
       "    <tr>\n",
       "      <th>145719</th>\n",
       "      <td>2129902e86ba7449</td>\n",
       "      <td>\"\\n\\n Vandalism  \\n\\n \"\"However, due to the sw...</td>\n",
       "      <td>0</td>\n",
       "      <td>0</td>\n",
       "      <td>0</td>\n",
       "      <td>0</td>\n",
       "      <td>0</td>\n",
       "      <td>0</td>\n",
       "    </tr>\n",
       "    <tr>\n",
       "      <th>21995</th>\n",
       "      <td>39f9b712d14d82cc</td>\n",
       "      <td>and www.cornsilks.com sockpuppets</td>\n",
       "      <td>0</td>\n",
       "      <td>0</td>\n",
       "      <td>0</td>\n",
       "      <td>0</td>\n",
       "      <td>0</td>\n",
       "      <td>0</td>\n",
       "    </tr>\n",
       "    <tr>\n",
       "      <th>59247</th>\n",
       "      <td>9ebc771ca256b12c</td>\n",
       "      <td>Norlen \\n\\nIs she still VP?</td>\n",
       "      <td>0</td>\n",
       "      <td>0</td>\n",
       "      <td>0</td>\n",
       "      <td>0</td>\n",
       "      <td>0</td>\n",
       "      <td>0</td>\n",
       "    </tr>\n",
       "    <tr>\n",
       "      <th>154312</th>\n",
       "      <td>ac24cc08bc279c52</td>\n",
       "      <td>\"\\nThank you for unblocking me. I feel a one m...</td>\n",
       "      <td>0</td>\n",
       "      <td>0</td>\n",
       "      <td>0</td>\n",
       "      <td>0</td>\n",
       "      <td>0</td>\n",
       "      <td>0</td>\n",
       "    </tr>\n",
       "    <tr>\n",
       "      <th>99612</th>\n",
       "      <td>14ee5b73253c55a0</td>\n",
       "      <td>\":Also, I don't want to slow you down on FA, b...</td>\n",
       "      <td>0</td>\n",
       "      <td>0</td>\n",
       "      <td>0</td>\n",
       "      <td>0</td>\n",
       "      <td>0</td>\n",
       "      <td>0</td>\n",
       "    </tr>\n",
       "    <tr>\n",
       "      <th>3579</th>\n",
       "      <td>099b672f19911fb2</td>\n",
       "      <td>wikipedian policy\\n\\nI see now how Wikipedia i...</td>\n",
       "      <td>1</td>\n",
       "      <td>0</td>\n",
       "      <td>1</td>\n",
       "      <td>0</td>\n",
       "      <td>1</td>\n",
       "      <td>0</td>\n",
       "    </tr>\n",
       "    <tr>\n",
       "      <th>129728</th>\n",
       "      <td>b5f2f4662d3d597d</td>\n",
       "      <td>Y HELLO THAR \\n\\nYou are one of the worst dele...</td>\n",
       "      <td>1</td>\n",
       "      <td>0</td>\n",
       "      <td>1</td>\n",
       "      <td>0</td>\n",
       "      <td>1</td>\n",
       "      <td>0</td>\n",
       "    </tr>\n",
       "  </tbody>\n",
       "</table>\n",
       "</div>"
      ],
      "text/plain": [
       "                      id                                       comment_text  \\\n",
       "115529  69d41fc56340e2ca  English Book, English title. No american trans...   \n",
       "10098   1ab610d76b03b448  \"\\n\\n A little something for you... \\n\\n   The...   \n",
       "120090  823517eeea74b48b  ...And the statement is completely opinion.  I...   \n",
       "145719  2129902e86ba7449  \"\\n\\n Vandalism  \\n\\n \"\"However, due to the sw...   \n",
       "21995   39f9b712d14d82cc                  and www.cornsilks.com sockpuppets   \n",
       "59247   9ebc771ca256b12c                        Norlen \\n\\nIs she still VP?   \n",
       "154312  ac24cc08bc279c52  \"\\nThank you for unblocking me. I feel a one m...   \n",
       "99612   14ee5b73253c55a0  \":Also, I don't want to slow you down on FA, b...   \n",
       "3579    099b672f19911fb2  wikipedian policy\\n\\nI see now how Wikipedia i...   \n",
       "129728  b5f2f4662d3d597d  Y HELLO THAR \\n\\nYou are one of the worst dele...   \n",
       "\n",
       "        toxic  severe_toxic  obscene  threat  insult  identity_hate  \n",
       "115529      0             0        0       0       0              0  \n",
       "10098       0             0        0       0       0              0  \n",
       "120090      0             0        0       0       0              0  \n",
       "145719      0             0        0       0       0              0  \n",
       "21995       0             0        0       0       0              0  \n",
       "59247       0             0        0       0       0              0  \n",
       "154312      0             0        0       0       0              0  \n",
       "99612       0             0        0       0       0              0  \n",
       "3579        1             0        1       0       1              0  \n",
       "129728      1             0        1       0       1              0  "
      ]
     },
     "execution_count": 7,
     "metadata": {},
     "output_type": "execute_result"
    }
   ],
   "source": [
    "train_df.sample(10)"
   ]
  },
  {
   "cell_type": "code",
   "execution_count": 8,
   "metadata": {},
   "outputs": [
    {
     "data": {
      "text/html": [
       "<div>\n",
       "<style scoped>\n",
       "    .dataframe tbody tr th:only-of-type {\n",
       "        vertical-align: middle;\n",
       "    }\n",
       "\n",
       "    .dataframe tbody tr th {\n",
       "        vertical-align: top;\n",
       "    }\n",
       "\n",
       "    .dataframe thead th {\n",
       "        text-align: right;\n",
       "    }\n",
       "</style>\n",
       "<table border=\"1\" class=\"dataframe\">\n",
       "  <thead>\n",
       "    <tr style=\"text-align: right;\">\n",
       "      <th></th>\n",
       "      <th>id</th>\n",
       "      <th>comment_text</th>\n",
       "    </tr>\n",
       "  </thead>\n",
       "  <tbody>\n",
       "    <tr>\n",
       "      <th>83258</th>\n",
       "      <td>8ad30675566f4be6</td>\n",
       "      <td>::We can change Canadian scholar to Harvard sc...</td>\n",
       "    </tr>\n",
       "    <tr>\n",
       "      <th>122245</th>\n",
       "      <td>cc2813667156e302</td>\n",
       "      <td>\" \\n\\n  \\n News Papers: \\n\\n  \\n Op-Eds: \\n\\n ...</td>\n",
       "    </tr>\n",
       "    <tr>\n",
       "      <th>65077</th>\n",
       "      <td>6c43f26d964800ef</td>\n",
       "      <td>\" \\n :::But I don't see why you seem to be tal...</td>\n",
       "    </tr>\n",
       "    <tr>\n",
       "      <th>23071</th>\n",
       "      <td>267efe9c313c5f89</td>\n",
       "      <td>Please re-watch Outlaw Star. Suzuka did not di...</td>\n",
       "    </tr>\n",
       "    <tr>\n",
       "      <th>27000</th>\n",
       "      <td>2ced03e06937813b</td>\n",
       "      <td>haiasikag pooop onnn brandon mcdoggle berry ai...</td>\n",
       "    </tr>\n",
       "    <tr>\n",
       "      <th>131067</th>\n",
       "      <td>db0e6d84c80ff39f</td>\n",
       "      <td>\" \\n\\n == Memories Section == \\n\\n We should p...</td>\n",
       "    </tr>\n",
       "    <tr>\n",
       "      <th>153116</th>\n",
       "      <td>ffeb7faf9662ed0f</td>\n",
       "      <td>(UTC) \\n\\n ::FYI, I'm currently in edit confli...</td>\n",
       "    </tr>\n",
       "    <tr>\n",
       "      <th>81974</th>\n",
       "      <td>88c567e1df05c78c</td>\n",
       "      <td>==Proposed move== \\n Madonna (disambiguation) ...</td>\n",
       "    </tr>\n",
       "    <tr>\n",
       "      <th>141701</th>\n",
       "      <td>ece26c739c6ae0f7</td>\n",
       "      <td>\" \\n\\n == Spanish people tp Spaniards == \\n\\n ...</td>\n",
       "    </tr>\n",
       "    <tr>\n",
       "      <th>19413</th>\n",
       "      <td>20948141a1ec0ed9</td>\n",
       "      <td>REDIRECT Talk:First Light (Preston book)</td>\n",
       "    </tr>\n",
       "  </tbody>\n",
       "</table>\n",
       "</div>"
      ],
      "text/plain": [
       "                      id                                       comment_text\n",
       "83258   8ad30675566f4be6  ::We can change Canadian scholar to Harvard sc...\n",
       "122245  cc2813667156e302  \" \\n\\n  \\n News Papers: \\n\\n  \\n Op-Eds: \\n\\n ...\n",
       "65077   6c43f26d964800ef  \" \\n :::But I don't see why you seem to be tal...\n",
       "23071   267efe9c313c5f89  Please re-watch Outlaw Star. Suzuka did not di...\n",
       "27000   2ced03e06937813b  haiasikag pooop onnn brandon mcdoggle berry ai...\n",
       "131067  db0e6d84c80ff39f  \" \\n\\n == Memories Section == \\n\\n We should p...\n",
       "153116  ffeb7faf9662ed0f  (UTC) \\n\\n ::FYI, I'm currently in edit confli...\n",
       "81974   88c567e1df05c78c  ==Proposed move== \\n Madonna (disambiguation) ...\n",
       "141701  ece26c739c6ae0f7  \" \\n\\n == Spanish people tp Spaniards == \\n\\n ...\n",
       "19413   20948141a1ec0ed9           REDIRECT Talk:First Light (Preston book)"
      ]
     },
     "execution_count": 8,
     "metadata": {},
     "output_type": "execute_result"
    }
   ],
   "source": [
    "test_df.sample(10)"
   ]
  },
  {
   "cell_type": "code",
   "execution_count": 9,
   "metadata": {},
   "outputs": [
    {
     "data": {
      "text/html": [
       "<div>\n",
       "<style scoped>\n",
       "    .dataframe tbody tr th:only-of-type {\n",
       "        vertical-align: middle;\n",
       "    }\n",
       "\n",
       "    .dataframe tbody tr th {\n",
       "        vertical-align: top;\n",
       "    }\n",
       "\n",
       "    .dataframe thead th {\n",
       "        text-align: right;\n",
       "    }\n",
       "</style>\n",
       "<table border=\"1\" class=\"dataframe\">\n",
       "  <thead>\n",
       "    <tr style=\"text-align: right;\">\n",
       "      <th></th>\n",
       "      <th>id</th>\n",
       "      <th>toxic</th>\n",
       "      <th>severe_toxic</th>\n",
       "      <th>obscene</th>\n",
       "      <th>threat</th>\n",
       "      <th>insult</th>\n",
       "      <th>identity_hate</th>\n",
       "    </tr>\n",
       "  </thead>\n",
       "  <tbody>\n",
       "    <tr>\n",
       "      <th>30253</th>\n",
       "      <td>3257453fc5ee201a</td>\n",
       "      <td>-1</td>\n",
       "      <td>-1</td>\n",
       "      <td>-1</td>\n",
       "      <td>-1</td>\n",
       "      <td>-1</td>\n",
       "      <td>-1</td>\n",
       "    </tr>\n",
       "    <tr>\n",
       "      <th>99205</th>\n",
       "      <td>a589cf9433c2d816</td>\n",
       "      <td>-1</td>\n",
       "      <td>-1</td>\n",
       "      <td>-1</td>\n",
       "      <td>-1</td>\n",
       "      <td>-1</td>\n",
       "      <td>-1</td>\n",
       "    </tr>\n",
       "    <tr>\n",
       "      <th>130301</th>\n",
       "      <td>d9be258191e06344</td>\n",
       "      <td>0</td>\n",
       "      <td>0</td>\n",
       "      <td>0</td>\n",
       "      <td>0</td>\n",
       "      <td>0</td>\n",
       "      <td>0</td>\n",
       "    </tr>\n",
       "    <tr>\n",
       "      <th>102473</th>\n",
       "      <td>ab16243bc8223799</td>\n",
       "      <td>-1</td>\n",
       "      <td>-1</td>\n",
       "      <td>-1</td>\n",
       "      <td>-1</td>\n",
       "      <td>-1</td>\n",
       "      <td>-1</td>\n",
       "    </tr>\n",
       "    <tr>\n",
       "      <th>151334</th>\n",
       "      <td>fcea6ce95da5e8ea</td>\n",
       "      <td>-1</td>\n",
       "      <td>-1</td>\n",
       "      <td>-1</td>\n",
       "      <td>-1</td>\n",
       "      <td>-1</td>\n",
       "      <td>-1</td>\n",
       "    </tr>\n",
       "    <tr>\n",
       "      <th>117334</th>\n",
       "      <td>c3d960bdec6116e1</td>\n",
       "      <td>-1</td>\n",
       "      <td>-1</td>\n",
       "      <td>-1</td>\n",
       "      <td>-1</td>\n",
       "      <td>-1</td>\n",
       "      <td>-1</td>\n",
       "    </tr>\n",
       "    <tr>\n",
       "      <th>69613</th>\n",
       "      <td>73e51924905f2dcf</td>\n",
       "      <td>0</td>\n",
       "      <td>0</td>\n",
       "      <td>0</td>\n",
       "      <td>0</td>\n",
       "      <td>0</td>\n",
       "      <td>0</td>\n",
       "    </tr>\n",
       "    <tr>\n",
       "      <th>80434</th>\n",
       "      <td>863a5eb694a7865a</td>\n",
       "      <td>-1</td>\n",
       "      <td>-1</td>\n",
       "      <td>-1</td>\n",
       "      <td>-1</td>\n",
       "      <td>-1</td>\n",
       "      <td>-1</td>\n",
       "    </tr>\n",
       "    <tr>\n",
       "      <th>142711</th>\n",
       "      <td>ee8ec90b31f33407</td>\n",
       "      <td>-1</td>\n",
       "      <td>-1</td>\n",
       "      <td>-1</td>\n",
       "      <td>-1</td>\n",
       "      <td>-1</td>\n",
       "      <td>-1</td>\n",
       "    </tr>\n",
       "    <tr>\n",
       "      <th>138720</th>\n",
       "      <td>e7e1ba96376181ff</td>\n",
       "      <td>-1</td>\n",
       "      <td>-1</td>\n",
       "      <td>-1</td>\n",
       "      <td>-1</td>\n",
       "      <td>-1</td>\n",
       "      <td>-1</td>\n",
       "    </tr>\n",
       "  </tbody>\n",
       "</table>\n",
       "</div>"
      ],
      "text/plain": [
       "                      id  toxic  severe_toxic  obscene  threat  insult  \\\n",
       "30253   3257453fc5ee201a     -1            -1       -1      -1      -1   \n",
       "99205   a589cf9433c2d816     -1            -1       -1      -1      -1   \n",
       "130301  d9be258191e06344      0             0        0       0       0   \n",
       "102473  ab16243bc8223799     -1            -1       -1      -1      -1   \n",
       "151334  fcea6ce95da5e8ea     -1            -1       -1      -1      -1   \n",
       "117334  c3d960bdec6116e1     -1            -1       -1      -1      -1   \n",
       "69613   73e51924905f2dcf      0             0        0       0       0   \n",
       "80434   863a5eb694a7865a     -1            -1       -1      -1      -1   \n",
       "142711  ee8ec90b31f33407     -1            -1       -1      -1      -1   \n",
       "138720  e7e1ba96376181ff     -1            -1       -1      -1      -1   \n",
       "\n",
       "        identity_hate  \n",
       "30253              -1  \n",
       "99205              -1  \n",
       "130301              0  \n",
       "102473             -1  \n",
       "151334             -1  \n",
       "117334             -1  \n",
       "69613               0  \n",
       "80434              -1  \n",
       "142711             -1  \n",
       "138720             -1  "
      ]
     },
     "execution_count": 9,
     "metadata": {},
     "output_type": "execute_result"
    }
   ],
   "source": [
    "test_label_df.sample(10)"
   ]
  },
  {
   "cell_type": "code",
   "execution_count": 10,
   "metadata": {},
   "outputs": [],
   "source": [
    "test_df = test_df.merge(test_label_df, left_on='id', right_on='id')\n",
    "test_df = test_df[(test_df['toxic'] == 0) | (test_df['toxic']==1)]"
   ]
  },
  {
   "cell_type": "code",
   "execution_count": 11,
   "metadata": {
    "scrolled": true
   },
   "outputs": [
    {
     "name": "stderr",
     "output_type": "stream",
     "text": [
      "C:\\Users\\Teng Li Yuan\\AppData\\Roaming\\Python\\Python37\\site-packages\\texthero\\preprocessing.py:72: FutureWarning: The default value of regex will change from True to False in a future version.\n",
      "  return input.str.replace(pattern, symbols)\n",
      "C:\\Users\\Teng Li Yuan\\AppData\\Roaming\\Python\\Python37\\site-packages\\texthero\\preprocessing.py:131: FutureWarning: The default value of regex will change from True to False in a future version.\n",
      "  return input.str.replace(rf\"([{string.punctuation}])+\", symbol)\n"
     ]
    }
   ],
   "source": [
    "train_df['comment_text_cleaned'] = train_df['comment_text'].pipe(hero.clean)\n",
    "test_df['comment_text_cleaned'] = test_df['comment_text'].pipe(hero.clean)"
   ]
  },
  {
   "cell_type": "code",
   "execution_count": 12,
   "metadata": {},
   "outputs": [],
   "source": [
    "train_df= train_df[['toxic','comment_text_cleaned']]\n",
    "test_df= test_df[['toxic','comment_text_cleaned']]"
   ]
  },
  {
   "cell_type": "code",
   "execution_count": 13,
   "metadata": {},
   "outputs": [],
   "source": [
    "# Prefixing each row of the category column with '__label__'\n",
    "train_df.iloc[:, 0] = train_df.iloc[:, 0].apply(lambda x: '__label__' + str(x))\n",
    "test_df.iloc[:, 0] = test_df.iloc[:, 0].apply(lambda x: '__label__' + str(x))"
   ]
  },
  {
   "cell_type": "code",
   "execution_count": 14,
   "metadata": {},
   "outputs": [],
   "source": [
    "# Prefixing each row of the category column with '__label__'\n",
    "train_df[['toxic', 'comment_text_cleaned']].to_csv('toxic_train.txt', \n",
    "                                          index = False, \n",
    "                                          sep = ' ',\n",
    "                                          header = None)\n",
    "\n",
    "test_df[['toxic', 'comment_text_cleaned']].to_csv('toxic_test.txt', \n",
    "                                     index = False, \n",
    "                                     sep = ' ',\n",
    "                                     header = None )"
   ]
  },
  {
   "cell_type": "code",
   "execution_count": 4,
   "metadata": {},
   "outputs": [],
   "source": [
    "import time"
   ]
  },
  {
   "cell_type": "code",
   "execution_count": 35,
   "metadata": {},
   "outputs": [
    {
     "name": "stdout",
     "output_type": "stream",
     "text": [
      "227.50854539871216\n"
     ]
    }
   ],
   "source": [
    "start = time.time()\n",
    "model = fasttext.train_supervised('toxic_train.txt', wordNgrams=3, epoch = 150, lr = 0.8)\n",
    "end = time.time()\n",
    "print(end - start)"
   ]
  },
  {
   "cell_type": "code",
   "execution_count": 36,
   "metadata": {},
   "outputs": [
    {
     "data": {
      "text/plain": [
       "(63930, 0.5, 1.0)"
      ]
     },
     "execution_count": 36,
     "metadata": {},
     "output_type": "execute_result"
    }
   ],
   "source": [
    "model.test('toxic_test.txt' ,k=2) "
   ]
  },
  {
   "cell_type": "code",
   "execution_count": 37,
   "metadata": {},
   "outputs": [],
   "source": [
    "y_pred = test_df.iloc[:, 1].apply(lambda x: model.predict(x)[0][0])\n",
    "y_true = test_df.iloc[:, 0]"
   ]
  },
  {
   "cell_type": "code",
   "execution_count": 38,
   "metadata": {},
   "outputs": [
    {
     "data": {
      "text/plain": [
       "5         __label__0\n",
       "7         __label__0\n",
       "11        __label__0\n",
       "13        __label__0\n",
       "14        __label__0\n",
       "             ...    \n",
       "153058    __label__0\n",
       "153059    __label__0\n",
       "153062    __label__0\n",
       "153063    __label__1\n",
       "153064    __label__0\n",
       "Name: toxic, Length: 63930, dtype: object"
      ]
     },
     "execution_count": 38,
     "metadata": {},
     "output_type": "execute_result"
    }
   ],
   "source": [
    "y_true"
   ]
  },
  {
   "cell_type": "code",
   "execution_count": 39,
   "metadata": {},
   "outputs": [
    {
     "data": {
      "text/plain": [
       "5         __label__0\n",
       "7         __label__0\n",
       "11        __label__0\n",
       "13        __label__0\n",
       "14        __label__0\n",
       "             ...    \n",
       "153058    __label__0\n",
       "153059    __label__1\n",
       "153062    __label__0\n",
       "153063    __label__1\n",
       "153064    __label__0\n",
       "Name: comment_text_cleaned, Length: 63930, dtype: object"
      ]
     },
     "execution_count": 39,
     "metadata": {},
     "output_type": "execute_result"
    }
   ],
   "source": [
    "y_pred"
   ]
  },
  {
   "cell_type": "code",
   "execution_count": 40,
   "metadata": {},
   "outputs": [
    {
     "name": "stdout",
     "output_type": "stream",
     "text": [
      "              precision    recall  f1-score   support\n",
      "\n",
      "  __label__0       0.97      0.95      0.96     57849\n",
      "  __label__1       0.61      0.73      0.67      6081\n",
      "\n",
      "    accuracy                           0.93     63930\n",
      "   macro avg       0.79      0.84      0.81     63930\n",
      "weighted avg       0.94      0.93      0.93     63930\n",
      "\n"
     ]
    }
   ],
   "source": [
    "print(classification_report(y_true, y_pred))"
   ]
  },
  {
   "cell_type": "code",
   "execution_count": 41,
   "metadata": {
    "scrolled": true
   },
   "outputs": [
    {
     "data": {
      "text/plain": [
       "array([[55025,  2824],\n",
       "       [ 1631,  4450]], dtype=int64)"
      ]
     },
     "execution_count": 41,
     "metadata": {},
     "output_type": "execute_result"
    }
   ],
   "source": [
    "confusion_matrix(y_true, y_pred)"
   ]
  },
  {
   "cell_type": "code",
   "execution_count": 42,
   "metadata": {
    "scrolled": true
   },
   "outputs": [
    {
     "data": {
      "text/plain": [
       "<fasttext.FastText._FastText at 0x1ac2d162128>"
      ]
     },
     "execution_count": 42,
     "metadata": {},
     "output_type": "execute_result"
    }
   ],
   "source": [
    "text = 'damn, I love it!'\n",
    "model.predict()"
   ]
  },
  {
   "cell_type": "code",
   "execution_count": 73,
   "metadata": {},
   "outputs": [
    {
     "data": {
      "text/plain": [
       "(('__label__1',), array([0.99981397]))"
      ]
     },
     "execution_count": 73,
     "metadata": {},
     "output_type": "execute_result"
    }
   ],
   "source": [
    "testing_text = 'Damn, it is so funny'\n",
    "clean_text = hero.clean(pd.Series(testing_text))[0]\n",
    "model.predict(clean_text)"
   ]
  },
  {
   "cell_type": "code",
   "execution_count": null,
   "metadata": {},
   "outputs": [],
   "source": []
  },
  {
   "cell_type": "code",
   "execution_count": null,
   "metadata": {},
   "outputs": [],
   "source": []
  },
  {
   "cell_type": "code",
   "execution_count": null,
   "metadata": {},
   "outputs": [],
   "source": []
  },
  {
   "cell_type": "code",
   "execution_count": 61,
   "metadata": {
    "scrolled": true
   },
   "outputs": [
    {
     "data": {
      "text/plain": [
       "(('__label__0',), array([0.70555413]))"
      ]
     },
     "execution_count": 61,
     "metadata": {},
     "output_type": "execute_result"
    }
   ],
   "source": [
    "testing_text = 'Damn, I love it!'\n",
    "clean_text = hero.clean(pd.Series(testing_text))[0]\n",
    "model.predict(clean_text)"
   ]
  }
 ],
 "metadata": {
  "kernelspec": {
   "display_name": "Python 3",
   "language": "python",
   "name": "python3"
  },
  "language_info": {
   "codemirror_mode": {
    "name": "ipython",
    "version": 3
   },
   "file_extension": ".py",
   "mimetype": "text/x-python",
   "name": "python",
   "nbconvert_exporter": "python",
   "pygments_lexer": "ipython3",
   "version": "3.7.3"
  }
 },
 "nbformat": 4,
 "nbformat_minor": 2
}
